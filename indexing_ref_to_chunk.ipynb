{
 "cells": [
  {
   "cell_type": "code",
   "execution_count": 1,
   "id": "d6abab0f-4203-466b-bbd2-dfa7ecbb4364",
   "metadata": {},
   "outputs": [],
   "source": [
    "import gradio as gr\n",
    "import numpy as np\n",
    "import string\n",
    "import os\n",
    "import torch\n",
    "from sentence_transformers import SentenceTransformer, util\n",
    "from sentence_transformers.cross_encoder import CrossEncoder\n",
    "from rank_bm25 import BM25Okapi\n",
    "\n",
    "from langchain.retrievers import BM25Retriever, EnsembleRetriever\n",
    "from langchain.text_splitter import CharacterTextSplitter\n",
    "from langchain.embeddings import OpenAIEmbeddings, HuggingFaceEmbeddings\n",
    "from langchain.embeddings.sentence_transformer import SentenceTransformerEmbeddings\n",
    "from langchain.document_loaders import PyPDFLoader, PDFMinerLoader\n",
    "from langchain.vectorstores import FAISS\n",
    "\n",
    "from transformers import AutoTokenizer, AutoModelForCausalLM, BitsAndBytesConfig\n",
    "import re\n",
    "import pandas as pd"
   ]
  },
  {
   "cell_type": "code",
   "execution_count": 2,
   "id": "693f33cf-9365-42c7-914a-d5b9bc713bfe",
   "metadata": {},
   "outputs": [],
   "source": [
    "loader = PDFMinerLoader(\"/home/skmlab/data/quangminh/ProjectII/document/luatgiaothong.pdf\")\n",
    "text = loader.load()"
   ]
  },
  {
   "cell_type": "code",
   "execution_count": 3,
   "id": "9195945c-3fa3-4341-b453-c233b0f1d97a",
   "metadata": {},
   "outputs": [
    {
     "name": "stderr",
     "output_type": "stream",
     "text": [
      "Created a chunk of size 523, which is longer than the specified 512\n"
     ]
    }
   ],
   "source": [
    "text_splitter = CharacterTextSplitter(chunk_size=512, chunk_overlap=100)\n",
    "#text_splitter = CharacterTextSplitter(chunk_size=512, chunk_overlap=0)\n",
    "docs = text_splitter.split_documents(text)"
   ]
  },
  {
   "cell_type": "code",
   "execution_count": 4,
   "id": "ae9ce321-5dd7-40aa-8afa-adb50d71a944",
   "metadata": {},
   "outputs": [
    {
     "data": {
      "text/plain": [
       "254"
      ]
     },
     "execution_count": 4,
     "metadata": {},
     "output_type": "execute_result"
    }
   ],
   "source": [
    "len(docs)"
   ]
  },
  {
   "cell_type": "code",
   "execution_count": 5,
   "id": "fdae8360-9c7d-46d3-85ab-1bb57ea4a9e3",
   "metadata": {},
   "outputs": [],
   "source": [
    "def get_ref(chunk):\n",
    "    chunk = chunk.split(\"\\n\\n\")\n",
    "    doc_ref = []\n",
    "    for doc in chunk:\n",
    "        rules = re.findall('Điều \\d+\\..*', doc)\n",
    "        if rules != []:\n",
    "            doc_ref.append(rules)\n",
    "            \n",
    "    return doc_ref[0][0]"
   ]
  },
  {
   "cell_type": "code",
   "execution_count": 6,
   "id": "8d3a2cc4-9b7f-4c86-bc7d-3b85dba5a311",
   "metadata": {},
   "outputs": [
    {
     "data": {
      "text/plain": [
       "254"
      ]
     },
     "execution_count": 6,
     "metadata": {},
     "output_type": "execute_result"
    }
   ],
   "source": [
    "chunks = []\n",
    "for doc in docs:\n",
    "    chunks.append(doc.page_content)\n",
    "len(chunks)"
   ]
  },
  {
   "cell_type": "code",
   "execution_count": 7,
   "id": "bed9721e-a3a7-47b3-8039-63c683f7dd76",
   "metadata": {},
   "outputs": [],
   "source": [
    "ref = []\n",
    "for chunk in chunks:\n",
    "    try:\n",
    "        ref.append(get_ref(chunk))\n",
    "    except:\n",
    "        ref.append(ref[-1])"
   ]
  },
  {
   "cell_type": "code",
   "execution_count": 8,
   "id": "69d89b31-e912-4944-ac65-1ac126e212f2",
   "metadata": {},
   "outputs": [
    {
     "data": {
      "text/plain": [
       "254"
      ]
     },
     "execution_count": 8,
     "metadata": {},
     "output_type": "execute_result"
    }
   ],
   "source": [
    "len(ref)"
   ]
  },
  {
   "cell_type": "code",
   "execution_count": 9,
   "id": "9b20963e-8b72-493f-aa0c-8ea33d25175f",
   "metadata": {},
   "outputs": [
    {
     "data": {
      "text/plain": [
       "'Điều 88. Hiệu lực thi hành '"
      ]
     },
     "execution_count": 9,
     "metadata": {},
     "output_type": "execute_result"
    }
   ],
   "source": [
    "ref[-1]"
   ]
  },
  {
   "cell_type": "code",
   "execution_count": 10,
   "id": "7c8aa087-a11c-446d-b186-cf22b7a15b6c",
   "metadata": {},
   "outputs": [],
   "source": [
    "data = {'ref': ref, 'chunk': chunks}\n",
    "df = pd.DataFrame(data)\n",
    "df.to_csv('/home/skmlab/data/quangminh/ProjectII/db.csv')\n",
    "#print(df)"
   ]
  },
  {
   "cell_type": "code",
   "execution_count": null,
   "id": "f829bb06-4209-477d-9b36-69c52b40a1bd",
   "metadata": {},
   "outputs": [],
   "source": []
  },
  {
   "cell_type": "code",
   "execution_count": 11,
   "id": "b847b100-d284-4fa5-8c97-81bbb31eb917",
   "metadata": {},
   "outputs": [
    {
     "data": {
      "text/plain": [
       "'Điều 4. Nguyên tắc hoạt động giao thông đường bộ'"
      ]
     },
     "execution_count": 11,
     "metadata": {},
     "output_type": "execute_result"
    }
   ],
   "source": [
    "ref[15]"
   ]
  },
  {
   "cell_type": "code",
   "execution_count": 12,
   "id": "f46d9e9b-f748-4013-a722-552e2150051b",
   "metadata": {},
   "outputs": [
    {
     "data": {
      "text/plain": [
       "'QUỐC HỘI \\nLuật số: 23/2008/QH12 \\n\\nCỘNG HÒA XÃ HỘI CHỦ NGHĨA VIỆT NAM \\nĐộc lập - Tự do - Hạnh phúc \\n\\nLUẬT \\n\\nGIAO THÔNG ĐƯỜNG BỘ  \\n\\nCăn  cứ  Hiến  pháp  nước  Cộng  hòa  xã  hội  chủ  nghĩa  Việt  Nam  năm  1992  đã \\n\\nđược sửa đổi, bổ sung một số điều theo Nghị quyết số 51/2001/QH10; \\n\\nQuốc hội ban hành Luật giao thông đường bộ. \\n\\nCHƯƠNG I \\n\\nNHỮNG QUY ĐỊNH CHUNG \\n\\nĐiều 1. Phạm vi điều chỉnh'"
      ]
     },
     "execution_count": 12,
     "metadata": {},
     "output_type": "execute_result"
    }
   ],
   "source": [
    "chunks[0]"
   ]
  },
  {
   "cell_type": "code",
   "execution_count": 13,
   "id": "ad229d75-f76b-4a69-93b8-3c1910364d50",
   "metadata": {},
   "outputs": [
    {
     "data": {
      "text/plain": [
       "'CHƯƠNG I \\n\\nNHỮNG QUY ĐỊNH CHUNG \\n\\nĐiều 1. Phạm vi điều chỉnh \\n\\nLuật này quy định về quy tắc giao thông đường bộ; kết cấu hạ tầng giao thông \\nđường bộ; phương tiện và người tham gia giao thông đường bộ; vận tải đường bộ và \\nquản lý nhà nước về giao thông đường bộ. \\n\\nĐiều 2. Đối tượng áp dụng \\n\\nLuật này áp dụng đối với tổ chức, cá nhân liên quan đến giao thông đường bộ \\n\\ntrên lãnh thổ nước Cộng hòa xã hội chủ nghĩa Việt Nam. \\n\\nĐiều 3. Giải thích từ ngữ \\n\\nTrong Luật này, các từ ngữ dưới đây được hiểu như sau:'"
      ]
     },
     "execution_count": 13,
     "metadata": {},
     "output_type": "execute_result"
    }
   ],
   "source": [
    "chunks[1]"
   ]
  },
  {
   "cell_type": "code",
   "execution_count": null,
   "id": "67d43245-3ae5-4ed4-bffc-fee0d59f2bea",
   "metadata": {},
   "outputs": [],
   "source": []
  }
 ],
 "metadata": {
  "kernelspec": {
   "display_name": "Python 3 (ipykernel)",
   "language": "python",
   "name": "python3"
  },
  "language_info": {
   "codemirror_mode": {
    "name": "ipython",
    "version": 3
   },
   "file_extension": ".py",
   "mimetype": "text/x-python",
   "name": "python",
   "nbconvert_exporter": "python",
   "pygments_lexer": "ipython3",
   "version": "3.11.6"
  }
 },
 "nbformat": 4,
 "nbformat_minor": 5
}
